{
 "cells": [
  {
   "cell_type": "markdown",
   "metadata": {},
   "source": [
    "# How does the syntax of a SELECT statement look?\n"
   ]
  },
  {
   "cell_type": "code",
   "execution_count": 2,
   "metadata": {},
   "outputs": [],
   "source": [
    "# SELECT column1, column2, ...\n",
    "\n",
    "# FROM table_name FROM: Specifies from which table to get the data. The clause can include optional JOIN subclauses to specify the rules for joining tables.\n",
    "\n",
    "# WHERE condition [Optional Clause] WHERE : Specifies which rows to retrieve.\n",
    "\n",
    "# ; Some database systems require a semicolon \"at the end of each SQL statement for execution\". \n",
    "    #It is a standard way \"to separate one SQL statement from another\" which allows more than one SQL statement to be executed in the same call to the server. So, it is good practice to use a semicolon at the end of each SQL statement.\n"
   ]
  },
  {
   "cell_type": "code",
   "execution_count": null,
   "metadata": {},
   "outputs": [],
   "source": []
  }
 ],
 "metadata": {
  "kernelspec": {
   "display_name": "Python 3",
   "language": "python",
   "name": "python3"
  },
  "language_info": {
   "codemirror_mode": {
    "name": "ipython",
    "version": 3
   },
   "file_extension": ".py",
   "mimetype": "text/x-python",
   "name": "python",
   "nbconvert_exporter": "python",
   "pygments_lexer": "ipython3",
   "version": "3.8.5"
  }
 },
 "nbformat": 4,
 "nbformat_minor": 4
}
